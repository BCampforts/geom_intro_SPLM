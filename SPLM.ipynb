{
 "cells": [
  {
   "cell_type": "markdown",
   "metadata": {
    "id": "g5BDhSETUBSn"
   },
   "source": [
    "# River incision\n",
    "*Benjamin Campforts*\n",
    "## Theory\n",
    "\n",
    "The detachment limited equation is as follows: Consider a location on a stream channel that has local downstream slope gradient $S$ and drainage area $A$. We define an erosion $E$ as:\n",
    "\n",
    "$$ E = KA^mS^n \\tag{1}  $$\n",
    "\n",
    "\n",
    "where $K$ is an erodibility coefficient with dimensions of $[L^{(1-2m)}/T]$. $K$ is thought to be positively correlated with climate wetness, or storminess (this is hard to quantify) and to be negatively correlated with rock strength (again, rock strength is hard to quantify). $A$ is drainage area and $S$ is the slope.  The erosion function has dimensions of erosion (lowering) rate, [L/T]. The expression is also known as the \"stream power law\" because the exponents can be configured to represent an erosion law that depends on stream power per unit bed area (Whipple & Tucker, 1999). A common choice of exponents is $m=1/2$, $n=1$, but other combinations are possible depending on one's assumptions about process, hydrology, channel geometry, and other factors (e.g., Howard et al., 1994; Whipple et al., 2000).\n",
    "\n",
    "\n",
    "Rewriting Fluvial incision as a change of elevation in time, we get:\n",
    "\n",
    "$$  \\frac{d z}{d t} = U-E \\tag{2}$$\n",
    "\n",
    "Where U is uplift with dimensions of $[L/T]$,  inserting Eq. 1 gives:\n",
    "\n",
    "$$  \\frac{d z}{d t} = U-KA^mS^n  \\tag{3} $$\n",
    "\n",
    "Rewriting $S$ as the slope of steepest descent ($-\\frac{dz}{dx}$) where $x$ is horizontal distance (positive in the downslope direction) and $z$ is elevation results in the following partial differential equation:\n",
    "\n",
    "$$  \\frac{\\partial z}{\\partial t} = U-KA^m\\left(\\frac{\\partial z}{\\partial x}\\right)^n  \\tag{4} $$"
   ]
  },
  {
   "cell_type": "markdown",
   "metadata": {
    "id": "RIuYyx95VoiH"
   },
   "source": [
    "Given this theory, we will run the Stream Power Model to solve some questions and landscape ."
   ]
  },
  {
   "cell_type": "markdown",
   "metadata": {
    "id": "SDrFy20XOgZv"
   },
   "source": [
    "Import Packages"
   ]
  },
  {
   "cell_type": "code",
   "execution_count": null,
   "metadata": {
    "id": "8klazzuxOjL-"
   },
   "outputs": [],
   "source": [
    "import numpy as np\n",
    "import matplotlib.pyplot as plt"
   ]
  },
  {
   "cell_type": "markdown",
   "metadata": {
    "id": "36cHiXNgOnxo"
   },
   "source": [
    "Definition Stream Power Erosion model"
   ]
  },
  {
   "cell_type": "code",
   "execution_count": null,
   "metadata": {
    "id": "DXuKUUrdOrmt"
   },
   "outputs": [],
   "source": [
    "def stream_power_erosion(z,dx,A,total_time,dt =50, U = 1e-3,K =1e-4, m = 0.5, n = 1 ):\n",
    "\n",
    "  \"\"\"\n",
    "  Simulates stream power erosion using a numerical model.\n",
    "\n",
    "  Args:\n",
    "      z (numpy.ndarray): Array representing the elevation profile.\n",
    "      dx (float): Grid spacing (distance between adjacent points).\n",
    "      A (numpy.ndarray): Array of drainage area values.\n",
    "      total_time (float): Total simulation time.\n",
    "      dt (float, optional): Time step for the simulation (default is 100).\n",
    "      U (float, optional): Uplift rate (default is 1e-3).\n",
    "      K (float, optional): Erosion coefficient (default is 1e-4).\n",
    "      m (float, optional): Exponent for drainage area in erosion velocity (default is 0.5).\n",
    "      n (float, optional): Exponent for slope in erosion velocity (default is 1).\n",
    "\n",
    "  Returns:\n",
    "      numpy.ndarray: Updated elevation profile after erosion simulation.\n",
    "\n",
    "  Notes:\n",
    "      - The function checks the stability of the provided timestep (dt) based on the incision wave velocity.\n",
    "      - If the provided dt exceeds the stable timestep, it is adjusted to the maximal stable value.\n",
    "      - Adjust other parameters as needed to ensure stable simulations.\n",
    "      - Author: B. Campforts\n",
    "  \"\"\"\n",
    "\n",
    "\n",
    "  # velocity of incision wave\n",
    "  v = -K*A**m\n",
    "  # check timestep\n",
    "  dt_stable = int(0.95*dx/max(abs(v)))\n",
    "  if dt>dt_stable:\n",
    "    print(' WARNING '.center(80, '*'))\n",
    "    print('Timestep provided is too large and will result in model instabilities \\nTimestep will be set to the maximal stable timestep of %.02f \\nReducing the timestep will incerase model runtime, adjust parameters if required' %dt_stable )\n",
    "    print(''.center(80, '*'))\n",
    "    dt = dt_stable\n",
    "\n",
    "\n",
    "  nt_iterations = int(total_time/dt)\n",
    "  for t in range(nt_iterations):\n",
    "    z[:-1] += v[1:]*dt*(abs(z[1:]-z[:-1])/dx)**n\n",
    "    z[:-1] += U *dt\n",
    "  return z"
   ]
  },
  {
   "cell_type": "markdown",
   "metadata": {
    "id": "oh2cMK2aOwq4"
   },
   "source": [
    "An example of how to run the Stream Power Model.\n",
    "We start by running the model using default parameters."
   ]
  },
  {
   "cell_type": "code",
   "execution_count": null,
   "metadata": {
    "id": "3ecUNkl1O4aU"
   },
   "outputs": [],
   "source": [
    "# Define spatial parameters of model run (spatial dimensions)\n",
    "dx = 50.0\n",
    "x = np.arange(0,10000,dx)\n",
    "A = x**1.8\n",
    "z = np.zeros_like(x)\n",
    "z_ini = np.array(z)\n",
    "\n",
    "# Model time configuration\n",
    "total_time = 1e4\n",
    "\n",
    "# Run the model\n",
    "z = stream_power_erosion(z, dx,A, total_time)\n"
   ]
  },
  {
   "cell_type": "markdown",
   "metadata": {
    "id": "Srv1JuICV968"
   },
   "source": [
    "Can you plot the results?\n",
    "* Plot the elvation with respect to distance. \n",
    "* Plot both the inital elevation and the modeled elevation at the same plot. \n",
    "* Don't forget to add x and y labels to your plot.\n",
    "\n",
    "HINT: use pyplot plot function. Pyplot was earlier imported as plt. "
   ]
  },
  {
   "cell_type": "code",
   "execution_count": null,
   "metadata": {
    "colab": {
     "base_uri": "https://localhost:8080/",
     "height": 467
    },
    "id": "AjWDb7QIWJUx",
    "outputId": "ee522b19-5b8d-41fe-d918-6def24566485"
   },
   "outputs": [],
   "source": []
  },
  {
   "cell_type": "markdown",
   "metadata": {},
   "source": [
    "<details>\n",
    "    <summary>👉 <b>click to see solution</b></summary>\n",
    "\n",
    "```python\n",
    "# Plot results.\n",
    "plt.figure()\n",
    "plt.plot(x, z)\n",
    "plt.plot(x, z_ini)\n",
    "plt.xlabel('Distance, m')\n",
    "plt.ylabel('Elevation, m')\n",
    "```\n",
    "</details>"
   ]
  },
  {
   "cell_type": "markdown",
   "metadata": {
    "id": "3-iyn0jHP4zV"
   },
   "source": [
    "Now try to run the SPM using a different set of parameter values. \n",
    "\n",
    "* Create a second set of z values to store the resuls under z2 \n",
    "* Run the model for 10000 years\n",
    "* Set the uplift rate to: U = 0.004 m/yr \n",
    "* $K$ to 2 $\\times 10^{-4}$ 1/yr \n",
    "* $m$ to 0.5 \n",
    "* $n$ to 1 \n",
    "  \n",
    "Plot the initial conditions, and the model results and add a legend to the figure."
   ]
  },
  {
   "cell_type": "code",
   "execution_count": null,
   "metadata": {
    "colab": {
     "base_uri": "https://localhost:8080/",
     "height": 467
    },
    "id": "boZjnocYP89i",
    "outputId": "89356e55-f889-4997-ce11-45fae612c710"
   },
   "outputs": [],
   "source": []
  },
  {
   "cell_type": "markdown",
   "metadata": {},
   "source": [
    "<details>\n",
    "    <summary>👉 <b>click to see solution</b></summary>\n",
    "\n",
    "```python\n",
    "# Define spatial parameters of model run (spatial dimensions). x and A can stay from before and will not be adjusted \n",
    "total_time = 1e4\n",
    "U_model = 0.004\n",
    "K_model = 2e-4\n",
    "m_model = 0.5\n",
    "n_model = 1\n",
    "z2 = np.zeros_like(x)\n",
    "z2 = stream_power_erosion(z2, dx,A, total_time, U = U_model, K = K_model, m = m_model, n = n_model)\n",
    "plt.plot(x,z_ini, label = 'Initial elevation')\n",
    "plt.plot(x,z, label = 'z, first model run')\n",
    "plt.plot(x,z2, label = 'z2, second model run')\n",
    "plt.legend()\n",
    "plt.xlabel('Distance, m')\n",
    "plt.ylabel('Elevation, m')\n",
    "```\n",
    "</details>"
   ]
  },
  {
   "cell_type": "markdown",
   "metadata": {},
   "source": [
    "### Question? What do we see in the plot? How and why are the results from run 1 and run 2 different? "
   ]
  },
  {
   "cell_type": "markdown",
   "metadata": {},
   "source": [
    "*Type your answer here *"
   ]
  },
  {
   "cell_type": "markdown",
   "metadata": {},
   "source": [
    "## Steady state\n",
    "\n",
    "Here we will calculate what happens when you run this solution towards a steady state. \n",
    "Adjust the code above by creating a third variable *z3*. Keep the same parameter values as before, but now run the model until a steady state is reached. "
   ]
  },
  {
   "cell_type": "code",
   "execution_count": null,
   "metadata": {},
   "outputs": [],
   "source": []
  },
  {
   "cell_type": "markdown",
   "metadata": {},
   "source": [
    "<details>\n",
    "    <summary>👉 <b>click to see solution</b></summary>\n",
    "\n",
    "```python\n",
    "# Define spatial parameters of model run (spatial dimensions). x and A can stay from before and will not be adjusted \n",
    "total_time = 1e6\n",
    "z3 = np.zeros_like(x)\n",
    "z3 = stream_power_erosion(z2, dx,A, total_time, U = U_model, K = K_model, m = m_model, n = n_model)\n",
    "plt.plot(x,z_ini, label = 'Initial elevation')\n",
    "plt.plot(x,z, label = 'z, first model run')\n",
    "plt.plot(x,z2, label = 'z2, second model run')\n",
    "plt.plot(x,z2, label = 'z3, steady state')\n",
    "plt.legend()\n",
    "plt.xlabel('Distance, m')\n",
    "plt.ylabel('Elevation, m')\n",
    "```\n",
    "</details>"
   ]
  },
  {
   "cell_type": "markdown",
   "metadata": {},
   "source": [
    "## Is this a steady state solution?"
   ]
  },
  {
   "cell_type": "markdown",
   "metadata": {
    "id": "pOoBgqd_X4NJ"
   },
   "source": [
    "Next, we will plot the slope of the obtained steady state elevation. \\\n",
    "Think about how to calculate the slope from the variable $z$ \\\n",
    "HINT: use pyplot scatter function to plot slope as a function of drainage area along the river \\\n",
    "What happens with this relationship if we plot it on a log-log scale?"
   ]
  },
  {
   "cell_type": "code",
   "execution_count": null,
   "metadata": {
    "colab": {
     "base_uri": "https://localhost:8080/",
     "height": 480
    },
    "id": "gAgYk4gYX1tP",
    "outputId": "aa47978f-7e22-4a13-ff52-0b22ffaa23d5"
   },
   "outputs": [],
   "source": []
  },
  {
   "cell_type": "markdown",
   "metadata": {},
   "source": [
    "<details>\n",
    "    <summary>👉 <b>click to see solution</b></summary>\n",
    "\n",
    "```python\n",
    "slope = -np.diff(z3)/dx\n",
    "plt.figure()\n",
    "plt.scatter(A[1:],slope, label = 'Slope steady state')\n",
    "plt.xscale('log')\n",
    "plt.yscale('log')\n",
    "plt.xlabel('Drainage area, m$^2$')\n",
    "plt.ylabel('Slope, m/m')\n",
    "plt.legend()  \n",
    "```\n",
    "</details>"
   ]
  },
  {
   "cell_type": "markdown",
   "metadata": {
    "id": "vT9Xml635Fkq"
   },
   "source": [
    "How does this compare to the theoretical values for slope under steady state where uplift equals erosion?\n",
    "Calculate by substituting Eq. 3 into: \n",
    "$$  \\frac{d z}{d t} = 0  \\tag{5} $$"
   ]
  },
  {
   "cell_type": "markdown",
   "metadata": {},
   "source": [
    "*derive the mathematical (here or in notes):*"
   ]
  },
  {
   "cell_type": "markdown",
   "metadata": {},
   "source": [
    "Next, compare the analytically derived solution to the numerical slope as derived above."
   ]
  },
  {
   "cell_type": "code",
   "execution_count": null,
   "metadata": {},
   "outputs": [],
   "source": []
  },
  {
   "cell_type": "markdown",
   "metadata": {
    "colab": {
     "base_uri": "https://localhost:8080/",
     "height": 480
    },
    "id": "YERVb4j2YNcV",
    "outputId": "ad20a885-2e99-4b33-e1d0-153dd1910840"
   },
   "source": [
    "<details>\n",
    "    <summary>👉 <b>click to see solution</b></summary>\n",
    "\n",
    "```python\n",
    "## Plot Slope\n",
    "S_an = (U_model/(K_model*A[1:]**m_model))**(1/n_model)\n",
    "plt.figure()\n",
    "plt.scatter(A[1:],slope, color = 'k',label = 'numerical solution')\n",
    "plt.scatter(A[1:], S_an, color = 'r', label = 'analytical solution', s =10)\n",
    "plt.xscale('log')\n",
    "plt.yscale('log')\n",
    "plt.xlabel('Drainage area, m$^2$')\n",
    "plt.ylabel('Slope, m/m')\n",
    "plt.legend()\n",
    "```\n",
    "</details>"
   ]
  },
  {
   "cell_type": "code",
   "execution_count": null,
   "metadata": {},
   "outputs": [],
   "source": []
  }
 ],
 "metadata": {
  "colab": {
   "provenance": []
  },
  "kernelspec": {
   "display_name": "Python 3 (ipykernel)",
   "language": "python",
   "name": "python3"
  },
  "language_info": {
   "codemirror_mode": {
    "name": "ipython",
    "version": 3
   },
   "file_extension": ".py",
   "mimetype": "text/x-python",
   "name": "python",
   "nbconvert_exporter": "python",
   "pygments_lexer": "ipython3",
   "version": "3.13.1"
  }
 },
 "nbformat": 4,
 "nbformat_minor": 4
}
