{
  "nbformat": 4,
  "nbformat_minor": 0,
  "metadata": {
    "colab": {
      "provenance": []
    },
    "kernelspec": {
      "name": "python3",
      "display_name": "Python 3"
    },
    "language_info": {
      "name": "python"
    }
  },
  "cells": [
    {
      "cell_type": "markdown",
      "source": [
        "# Excercises\n",
        "\n",
        "**Name 1:** [enter your name here]\n",
        "\n",
        "Copy, adjust and run code snippets from the *SPLM_Geomorphology* notebook to answer the following questions. Answer the questions using text blocks in the notebook. Be concise.  \n",
        "\n",
        "\n",
        "## **Excercise 1: Create model**\n",
        "Create a base model using the following configuration:\n",
        "\n",
        "\n",
        "Set:\n",
        "* uplift rate $U$ = 0.003 m/yr\n",
        "* $K$ to 1 $\\times 10^{-5}$ 1/yr\n",
        "* $m$ to 0.5\n",
        "* $n$ to 1\n",
        "* a model run time of 100000 year\n",
        "\n",
        "Plot the resulting elevation"
      ],
      "metadata": {
        "id": "ktDhhO3oFlHR"
      }
    },
    {
      "cell_type": "code",
      "execution_count": null,
      "metadata": {
        "id": "8syIBtLgFdRh"
      },
      "outputs": [],
      "source": [
        "# import packages"
      ]
    },
    {
      "cell_type": "code",
      "source": [
        "# Copy the function to run the SPL model"
      ],
      "metadata": {
        "id": "ZMs1gKmtGkOE"
      },
      "execution_count": null,
      "outputs": []
    },
    {
      "cell_type": "code",
      "source": [
        "# Define spatial parameters of model run (spatial dimensions)\n",
        "\n",
        "# Run de model\n",
        "\n",
        "# Plot results"
      ],
      "metadata": {
        "id": "CucimgiVGmJv"
      },
      "execution_count": null,
      "outputs": []
    },
    {
      "cell_type": "markdown",
      "source": [
        "###Questions\n",
        "\n",
        "Answer the following questions in a text cell:\n",
        "* Is the model in steady state? HINT: compare slope of modeled elevation with the analytically calculated slope value"
      ],
      "metadata": {
        "id": "9OIz4oyeH3MR"
      }
    },
    {
      "cell_type": "code",
      "source": [],
      "metadata": {
        "id": "mSjserJeHJCE"
      },
      "execution_count": null,
      "outputs": []
    },
    {
      "cell_type": "markdown",
      "source": [
        "## **Excercise 2: Model base run**\n",
        "\n",
        "Rerun the model from excercise 1 for 1 Myr using the same parameter values. \\\\\n",
        "\n",
        "###Questions\n",
        "\n",
        "Make plots and answer the following questions in a text cell:\n",
        "\n",
        "* Make elevation and slope plots\n",
        "* Is a model runtime of 1 Myr enough to obtain steady state between uplift and erosion?\n",
        "\n"
      ],
      "metadata": {
        "id": "YNV59ctOIcGR"
      }
    },
    {
      "cell_type": "code",
      "source": [
        "\n"
      ],
      "metadata": {
        "id": "nKfyEpf0IUut"
      },
      "execution_count": null,
      "outputs": []
    },
    {
      "cell_type": "markdown",
      "source": [
        "## **Excercise 3: Double Uplift rate**\n",
        "\n",
        "Now double the uplift $U$, what happens to the elevation profile and the slope compared to the base run? \\\\\n",
        "\n",
        "Set:\n",
        "* $K$ to 1 $\\times 10^{-5}$ 1/yr\n",
        "* $m$ to 0.5\n",
        "* $n$ to 1\n",
        "\n",
        "###Questions\n",
        "\n",
        "Make plots and answer the following questions in a text cell:\n",
        "\n",
        "* Make elevation and slope plots. Add the results of the base model (excercise 2) to the plots for comparison\n",
        "* How does this solution differ from the solution in the base run?"
      ],
      "metadata": {
        "id": "ynI5iRllJPJu"
      }
    },
    {
      "cell_type": "code",
      "source": [],
      "metadata": {
        "id": "0hyEt545I1vP"
      },
      "execution_count": null,
      "outputs": []
    },
    {
      "cell_type": "markdown",
      "source": [
        "## **Excercise 4: Change value of area exponent *m***\n",
        "\n",
        "Now set the value of *m* to 0.4, what happens to the elevation profile and the slope compared to the base run? \\\\\n",
        "\n",
        "Set:\n",
        "* uplift rate $U$ = 0.003 m/yr\n",
        "* $K$ to 1 $\\times 10^{-5}$ 1/yr\n",
        "* $m$ to 0.4\n",
        "* $n$ to 1\n",
        "\n",
        "###Questions\n",
        "\n",
        "Make plots and answer the following questions in a text cell:\n",
        "*  Make elevation and slope plots. Add the results of the base model (excercise 2) to the plots for comparison\n",
        "* How does this solution differ from the solution in the base run?\n"
      ],
      "metadata": {
        "id": "FIzX-9x7KQIb"
      }
    },
    {
      "cell_type": "code",
      "source": [],
      "metadata": {
        "id": "7GhbwKPKJsr_",
        "colab": {
          "base_uri": "https://localhost:8080/"
        },
        "outputId": "d754f7d2-4e42-472c-cafa-f9dc29f7484b"
      },
      "execution_count": null,
      "outputs": [
        {
          "output_type": "execute_result",
          "data": {
            "text/plain": [
              "Ellipsis"
            ]
          },
          "metadata": {},
          "execution_count": 6
        }
      ]
    },
    {
      "cell_type": "markdown",
      "source": [
        "## **Excercise 5: Test the impact of a perturbing uplift pulse**\n",
        "\n",
        "In a final simulation we will evaluate the impact of a perturbing uplift pulse.\n",
        "\n",
        "To do this, first excecute a model run with an uplift rate of $U=0.001$ m/yr during 700000 year, followed by a 100000-year model run with an upift rate of $U=0.003$ m/yr. HINT: use the resulting topography from the first model run as an input for the second model run. \\\\\n",
        "\n",
        "Model run 1, set :\n",
        "* uplift rate $U$ = 0.001 m/yr\n",
        "* $K$ to 2.5 $\\times 10^{-5}$ 1/yr\n",
        "* $m$ to 0.4\n",
        "* $n$ to 1\n",
        "* model run time: 7e5\n",
        "\n",
        "Model run 2, set :\n",
        "* uplift rate $U$ = 0.003 m/yr\n",
        "* $K$ to 2.5 $\\times 10^{-5}$ 1/yr\n",
        "* $m$ to 0.4\n",
        "* $n$ to 1\n",
        "* model run time: 1e5\n",
        "\n",
        "###Questions\n",
        "\n",
        "Make plots and answer the following questions in a text cell:\n",
        "* Make elevation and slope plots\n",
        "* Plot the analytical slope for the steady case configuration of the second uplift pulse\n",
        "* Describe what you see\n",
        "* Is the simulation in a steady state?\n",
        "* Extra: how long does it take to get into a steady state\n"
      ],
      "metadata": {
        "id": "Se5W3m8nLh8u"
      }
    },
    {
      "cell_type": "code",
      "source": [],
      "metadata": {
        "id": "zx2oq0xeKkrX"
      },
      "execution_count": null,
      "outputs": []
    }
  ]
}