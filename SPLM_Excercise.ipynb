{
 "cells": [
  {
   "cell_type": "markdown",
   "metadata": {},
   "source": [
    "# Practical Geomorphology: modeling fluvial incision using the Stream Power Law\n",
    "\n",
    "Answer the questions in a Word document, convert to pdf and submit on Canvas. \\\n",
    "Each question is marked at 2.5 points. \\\n",
    "Answer by providing plots generated with this notebook and explain observations in a concise manner. Make sure to label plots correctly! \\\n",
    "Safe various model outputs as a different z variables (model 1 = z1, model 2 = z2, etc.) so that you can continuously compare simulated results throughout the notebook. \n",
    "\n",
    "Questions: Canvas Discussion Forum, or email me. "
   ]
  },
  {
   "cell_type": "markdown",
   "metadata": {},
   "source": [
    "## Model function to be used for exercises"
   ]
  },
  {
   "cell_type": "code",
   "execution_count": null,
   "metadata": {
    "id": "ZMs1gKmtGkOE"
   },
   "outputs": [],
   "source": [
    "# import packages\n",
    "import numpy as np\n",
    "import matplotlib.pyplot as plt\n",
    "\n",
    "# Copy the function to run the SPL model\n",
    "def stream_power_erosion(z,dx,A,total_time,dt =50, U = 1e-3,K =1e-4, m = 0.5, n = 1 ):\n",
    "\n",
    "  \"\"\"\n",
    "  Simulates stream power erosion using a numerical model.\n",
    "\n",
    "  Args:\n",
    "      z (numpy.ndarray): Array representing the elevation profile.\n",
    "      dx (float): Grid spacing (distance between adjacent points).\n",
    "      A (numpy.ndarray): Array of drainage area values.\n",
    "      total_time (float): Total simulation time.\n",
    "      dt (float, optional): Time step for the simulation (default is 100).\n",
    "      U (float, optional): Uplift rate (default is 1e-3).\n",
    "      K (float, optional): Erosion coefficient (default is 1e-4).\n",
    "      m (float, optional): Exponent for drainage area in erosion velocity (default is 0.5).\n",
    "      n (float, optional): Exponent for slope in erosion velocity (default is 1).\n",
    "\n",
    "  Returns:\n",
    "      numpy.ndarray: Updated elevation profile after erosion simulation.\n",
    "\n",
    "  Notes:\n",
    "      - The function checks the stability of the provided timestep (dt) based on the incision wave velocity.\n",
    "      - If the provided dt exceeds the stable timestep, it is adjusted to the maximal stable value.\n",
    "      - Adjust other parameters as needed to ensure stable simulations.\n",
    "      - Author: B. Campforts\n",
    "  \"\"\"\n",
    "\n",
    "\n",
    "  # velocity of incision wave\n",
    "  v = -K*A**m\n",
    "  # check timestep\n",
    "  dt_stable = int(0.95*dx/max(abs(v)))\n",
    "  if dt>dt_stable:\n",
    "    print(' WARNING '.center(80, '*'))\n",
    "    print('Timestep provided is too large and will result in model instabilities \\nTimestep will be set to the maximal stable timestep of %.02f \\nReducing the timestep will incerase model runtime, adjust parameters if required' %dt_stable )\n",
    "    print(''.center(80, '*'))\n",
    "    dt = dt_stable\n",
    "\n",
    "\n",
    "  nt_iterations = int(total_time/dt)\n",
    "  for t in range(nt_iterations):\n",
    "    z[:-1] += v[1:]*dt*(abs(z[1:]-z[:-1])/dx)**n\n",
    "    z[:-1] += U *dt\n",
    "  return z"
   ]
  },
  {
   "cell_type": "markdown",
   "metadata": {},
   "source": [
    "## **Exercise 1: Create base model**\n",
    "Create a base model using the following configuration:\n",
    "\n",
    "Set:\n",
    "* dx equals 40.0\n",
    "* x ranges from 0 to 20000 m with steps of dx\n",
    "* Drainage area A equals $x^{1.7}$\n",
    "* Uplift rate $U$ = 0.003 m/yr\n",
    "* $K$ to 1 $\\times 10^{-5}$ 1/yr\n",
    "* $m$ to 0.5\n",
    "* $n$ to 1\n",
    "* a model run time of 500000 year\n",
    "\n",
    "Plot the resulting elevation"
   ]
  },
  {
   "cell_type": "code",
   "execution_count": null,
   "metadata": {
    "id": "CucimgiVGmJv"
   },
   "outputs": [],
   "source": [
    "# Define spatial parameters of model run (spatial dimensions)\n",
    "\n",
    "# Run the model\n",
    "\n",
    "# Plot results"
   ]
  },
  {
   "cell_type": "markdown",
   "metadata": {
    "id": "9OIz4oyeH3MR"
   },
   "source": [
    "### Questions\n",
    "\n",
    "Make elevation and slope plots to support answers to the following questions: \n",
    "* Is the model in steady state? Plot the slope of modeled elevation with the analytically calculated slope value\n"
   ]
  },
  {
   "cell_type": "code",
   "execution_count": null,
   "metadata": {
    "id": "mSjserJeHJCE"
   },
   "outputs": [],
   "source": []
  },
  {
   "cell_type": "markdown",
   "metadata": {},
   "source": [
    "* What happens if you rerun the model for 1 million year and for 4 million years (using the same parameter values)? "
   ]
  },
  {
   "cell_type": "code",
   "execution_count": null,
   "metadata": {},
   "outputs": [],
   "source": []
  },
  {
   "cell_type": "markdown",
   "metadata": {
    "id": "ynI5iRllJPJu"
   },
   "source": [
    "## **Exercise 2: Double Uplift rate**\n",
    "\n",
    "Now double the uplift $U$. What happens to the elevation profile and the slope compared to the base run? \n",
    "\n",
    "Keep all the other parameter values similar to those used in ex. 1:\n",
    "* dx equals 40.0\n",
    "* x ranges from 0 to 20000 m with steps of dx\n",
    "* Drainage area A equals $x^{1.7}$\n",
    "* $K$ to 1 $\\times 10^{-5}$ 1/yr\n",
    "* $m$ to 0.5\n",
    "* $n$ to 1\n",
    "* a model run time of 500000 year\n",
    "\n",
    "But, set U to 0.006 instead of 0.003\n",
    "* Uplift rate $U$ = 0.006 m/yr\n",
    "\n",
    "### Questions\n",
    "\n",
    "Make plots and answer the following question:\n",
    "\n",
    "* Add the results of the base model (exercise 1) to the plots for comparison. How does this solution differ from the solution in the base run?"
   ]
  },
  {
   "cell_type": "code",
   "execution_count": null,
   "metadata": {
    "id": "0hyEt545I1vP"
   },
   "outputs": [],
   "source": []
  },
  {
   "cell_type": "markdown",
   "metadata": {
    "id": "FIzX-9x7KQIb"
   },
   "source": [
    "## Exercise 3: Changing SPLM parameter values\n",
    "\n",
    "In this exercise, we will change the values of the area exponent *m*, the slope exponent *n* and the erodibility factor *K*.\n",
    "\n",
    "Start by using the parameter values as set in the base run:\n",
    "* dx equals 40.0\n",
    "* x ranges from 0 to 20000 m with steps of dx\n",
    "* Drainage area A equals $x^{1.7}$\n",
    "*Uplift rate $U$ = 0.006 m/yr\n",
    "* $K$ to 1 $\\times 10^{-5}$ 1/yr\n",
    "* $m$ to 0.5\n",
    "* $n$ to 1\n",
    "* a model run time of 500000 year\n",
    "\n",
    "But, now change values for *m*, *n* and *K* as follows. \n",
    "\n",
    "* In a first set of three runs change *m* to 0.25,0.45 and 0.55, while keeping *n* and *K* set to the values as defined above, plot the resulting topographies on one plot, also add the base plot for reference. \n",
    "* In a second set of three runs change *n* to 0.75,1.25 and 1.5, while keeping *m* and *K* set to the values as defined above, plot the resulting topographies on one plot.\n",
    "* In a third set of three runs change *K* to 5e-4, 5e-5 and 5e-6, while keeping *m* and *n* set to the values as defined above, plot the resulting topographies on one plot. \n",
    "\n",
    "\n",
    "### Questions\n",
    "\n",
    "You end up with three plots. Use these three plots to explain the impact of *m*, *n* and *K* respectively on the evolution of incising rivers. Describe what you see and explain why you see this. \n"
   ]
  },
  {
   "cell_type": "code",
   "execution_count": null,
   "metadata": {
    "colab": {
     "base_uri": "https://localhost:8080/"
    },
    "id": "7GhbwKPKJsr_",
    "outputId": "d754f7d2-4e42-472c-cafa-f9dc29f7484b"
   },
   "outputs": [],
   "source": [
    "# m-var models"
   ]
  },
  {
   "cell_type": "code",
   "execution_count": null,
   "metadata": {},
   "outputs": [],
   "source": [
    "# n-var models"
   ]
  },
  {
   "cell_type": "code",
   "execution_count": null,
   "metadata": {},
   "outputs": [],
   "source": [
    "# K-var models"
   ]
  },
  {
   "cell_type": "markdown",
   "metadata": {
    "id": "Se5W3m8nLh8u"
   },
   "source": [
    "## **Exercise 4: Test the impact of a perturbing uplift pulse**\n",
    "\n",
    "In a final simulation, you are evaluating the impact of a changing uplift pulse, consisting out of two phases.\n",
    "\n",
    "Start by simulating the first uplift phase. Execute a model run with an uplift rate of $U=0.001$ m/yr during 500000 year. \n",
    "Except for U and model run time, use the same model parameters as used for the model base run: \n",
    "\n",
    "* dx equals 40.0\n",
    "* x ranges from 0 to 20000 m with steps of dx\n",
    "* Drainage area A equals $x^{1.7}$\n",
    "* $K$ to 1 $\\times 10^{-5}$ 1/yr\n",
    "* $m$ to 0.5\n",
    "* $n$ to 1\n",
    "with\n",
    "* U = 0.001\n",
    "* a model run time of 500000 year\n",
    "\n",
    "In a second phase, you will build on the topography obtained from phase 1. Run the model for 300000 years more and increase the uplift rate to $U$ = 0.003 m/yr\n",
    "\n",
    "*HINT, start phase 2 using the results from phase 1. This can be done like so: \n",
    "\n",
    "```python\n",
    "z_Phase_2 = np.array(z_Phase_1) # Make a hard copy of the previous results \n",
    "z_Phase_2 = stream_power_erosion(z_Phase_2,...\n",
    "```\n",
    "\n",
    "### Questions\n",
    "\n",
    "Make one summarizing plot and answer the following questions:\n",
    "* Describe what you see.\n",
    "    * What is the impact of various uplift rates on the elevation profiles?\n",
    "    * Do you see any knickpoint(s) propagating?\n",
    "    * Why is/are there no/one/two  knickpoints? What determines there location along the x and y-axis? \n",
    "* Is the simulation in a steady state?\n"
   ]
  },
  {
   "cell_type": "code",
   "execution_count": null,
   "metadata": {
    "id": "zx2oq0xeKkrX"
   },
   "outputs": [],
   "source": []
  }
 ],
 "metadata": {
  "colab": {
   "provenance": []
  },
  "kernelspec": {
   "display_name": "Python 3 (ipykernel)",
   "language": "python",
   "name": "python3"
  },
  "language_info": {
   "codemirror_mode": {
    "name": "ipython",
    "version": 3
   },
   "file_extension": ".py",
   "mimetype": "text/x-python",
   "name": "python",
   "nbconvert_exporter": "python",
   "pygments_lexer": "ipython3",
   "version": "3.13.1"
  }
 },
 "nbformat": 4,
 "nbformat_minor": 4
}
